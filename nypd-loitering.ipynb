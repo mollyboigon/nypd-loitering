{
 "cells": [
  {
   "cell_type": "code",
   "execution_count": 1,
   "id": "908871ef",
   "metadata": {},
   "outputs": [],
   "source": [
    "import pandas as pd"
   ]
  },
  {
   "cell_type": "code",
   "execution_count": 6,
   "id": "ff74d61c",
   "metadata": {},
   "outputs": [],
   "source": [
    "nypd_df = pd.read_csv(\"data/NYPD_Arrests_Data__Historic_.csv\")"
   ]
  },
  {
   "cell_type": "code",
   "execution_count": 7,
   "id": "468cfa67",
   "metadata": {},
   "outputs": [
    {
     "name": "stdout",
     "output_type": "stream",
     "text": [
      "<class 'pandas.core.frame.DataFrame'>\n",
      "RangeIndex: 5153369 entries, 0 to 5153368\n",
      "Data columns (total 19 columns):\n",
      " #   Column             Dtype  \n",
      "---  ------             -----  \n",
      " 0   ARREST_KEY         int64  \n",
      " 1   ARREST_DATE        object \n",
      " 2   PD_CD              float64\n",
      " 3   PD_DESC            object \n",
      " 4   KY_CD              float64\n",
      " 5   OFNS_DESC          object \n",
      " 6   LAW_CODE           object \n",
      " 7   LAW_CAT_CD         object \n",
      " 8   ARREST_BORO        object \n",
      " 9   ARREST_PRECINCT    int64  \n",
      " 10  JURISDICTION_CODE  float64\n",
      " 11  AGE_GROUP          object \n",
      " 12  PERP_SEX           object \n",
      " 13  PERP_RACE          object \n",
      " 14  X_COORD_CD         float64\n",
      " 15  Y_COORD_CD         float64\n",
      " 16  Latitude           float64\n",
      " 17  Longitude          float64\n",
      " 18  Lon_Lat            object \n",
      "dtypes: float64(7), int64(2), object(10)\n",
      "memory usage: 747.0+ MB\n"
     ]
    }
   ],
   "source": [
    "nypd_df.info()"
   ]
  },
  {
   "cell_type": "code",
   "execution_count": 23,
   "id": "2e4261c9",
   "metadata": {},
   "outputs": [],
   "source": [
    "desc_df = nypd_df[\"PD_DESC\"]"
   ]
  },
  {
   "cell_type": "code",
   "execution_count": 35,
   "id": "d36e043e",
   "metadata": {},
   "outputs": [
    {
     "data": {
      "text/plain": [
       "MARIJUANA, POSSESSION 4 & 5                   423649\n",
       "ASSAULT 3                                     418094\n",
       "THEFT OF SERVICES, UNCLASSIFIED               303359\n",
       "CONTROLLED SUBSTANCE, POSSESSION 7            278083\n",
       "NY STATE LAWS,UNCLASSIFIED VIOLATION          225678\n",
       "                                               ...  \n",
       "PEDESTRIAN - WALK/DO NOT WALK                      1\n",
       "USING SLUGS, 2ND                                   1\n",
       "RIGHT OF WAY,PEDESTRIAN                            1\n",
       "FAC. SEXUAL OFFENSE W/CONTROLLED SUBSTANCE         1\n",
       "NYS PROBATION                                      1\n",
       "Name: PD_DESC, Length: 422, dtype: int64"
      ]
     },
     "execution_count": 35,
     "metadata": {},
     "output_type": "execute_result"
    }
   ],
   "source": [
    "desc_df.value_counts()"
   ]
  },
  {
   "cell_type": "code",
   "execution_count": 40,
   "id": "f6fa1f31",
   "metadata": {},
   "outputs": [
    {
     "ename": "AttributeError",
     "evalue": "'Series' object has no attribute 'pivot'",
     "output_type": "error",
     "traceback": [
      "\u001b[0;31m---------------------------------------------------------------------------\u001b[0m",
      "\u001b[0;31mAttributeError\u001b[0m                            Traceback (most recent call last)",
      "\u001b[0;32m/var/folders/ty/91pvbp991kscxb696nhhm1nc0000gn/T/ipykernel_3320/3868433871.py\u001b[0m in \u001b[0;36m<module>\u001b[0;34m\u001b[0m\n\u001b[0;32m----> 1\u001b[0;31m \u001b[0mdesc_df\u001b[0m\u001b[0;34m.\u001b[0m\u001b[0mpivot\u001b[0m\u001b[0;34m(\u001b[0m\u001b[0mcolumns\u001b[0m \u001b[0;34m=\u001b[0m \u001b[0;34m\"PD_DESC\"\u001b[0m\u001b[0;34m,\u001b[0m \u001b[0mvalues\u001b[0m \u001b[0;34m=\u001b[0m \u001b[0;34m\"ARREST_DATE\"\u001b[0m\u001b[0;34m)\u001b[0m\u001b[0;34m\u001b[0m\u001b[0;34m\u001b[0m\u001b[0m\n\u001b[0m",
      "\u001b[0;32m/usr/local/anaconda3/lib/python3.9/site-packages/pandas/core/generic.py\u001b[0m in \u001b[0;36m__getattr__\u001b[0;34m(self, name)\u001b[0m\n\u001b[1;32m   5485\u001b[0m         ):\n\u001b[1;32m   5486\u001b[0m             \u001b[0;32mreturn\u001b[0m \u001b[0mself\u001b[0m\u001b[0;34m[\u001b[0m\u001b[0mname\u001b[0m\u001b[0;34m]\u001b[0m\u001b[0;34m\u001b[0m\u001b[0;34m\u001b[0m\u001b[0m\n\u001b[0;32m-> 5487\u001b[0;31m         \u001b[0;32mreturn\u001b[0m \u001b[0mobject\u001b[0m\u001b[0;34m.\u001b[0m\u001b[0m__getattribute__\u001b[0m\u001b[0;34m(\u001b[0m\u001b[0mself\u001b[0m\u001b[0;34m,\u001b[0m \u001b[0mname\u001b[0m\u001b[0;34m)\u001b[0m\u001b[0;34m\u001b[0m\u001b[0;34m\u001b[0m\u001b[0m\n\u001b[0m\u001b[1;32m   5488\u001b[0m \u001b[0;34m\u001b[0m\u001b[0m\n\u001b[1;32m   5489\u001b[0m     \u001b[0;32mdef\u001b[0m \u001b[0m__setattr__\u001b[0m\u001b[0;34m(\u001b[0m\u001b[0mself\u001b[0m\u001b[0;34m,\u001b[0m \u001b[0mname\u001b[0m\u001b[0;34m:\u001b[0m \u001b[0mstr\u001b[0m\u001b[0;34m,\u001b[0m \u001b[0mvalue\u001b[0m\u001b[0;34m)\u001b[0m \u001b[0;34m->\u001b[0m \u001b[0;32mNone\u001b[0m\u001b[0;34m:\u001b[0m\u001b[0;34m\u001b[0m\u001b[0;34m\u001b[0m\u001b[0m\n",
      "\u001b[0;31mAttributeError\u001b[0m: 'Series' object has no attribute 'pivot'"
     ]
    }
   ],
   "source": [
    "#desc_df.pivot(columns = \"PD_DESC\", values = \"ARREST_DATE\")"
   ]
  },
  {
   "cell_type": "code",
   "execution_count": 42,
   "id": "00b7134e",
   "metadata": {},
   "outputs": [
    {
     "data": {
      "text/plain": [
       "<pandas.core.groupby.generic.DataFrameGroupBy object at 0x7f9425b90070>"
      ]
     },
     "execution_count": 42,
     "metadata": {},
     "output_type": "execute_result"
    }
   ],
   "source": [
    "nypd_df.groupby(by=\"ARREST_DATE\")"
   ]
  },
  {
   "cell_type": "code",
   "execution_count": 43,
   "id": "fe8fd31a",
   "metadata": {},
   "outputs": [
    {
     "data": {
      "text/plain": [
       "0          06/18/2007\n",
       "1          01/26/2019\n",
       "2          02/06/2019\n",
       "3          01/06/2016\n",
       "4          11/15/2018\n",
       "              ...    \n",
       "5153364    01/08/2020\n",
       "5153365    01/01/2020\n",
       "5153366    01/11/2020\n",
       "5153367    01/01/2020\n",
       "5153368    01/02/2020\n",
       "Name: ARREST_DATE, Length: 5153369, dtype: object"
      ]
     },
     "execution_count": 43,
     "metadata": {},
     "output_type": "execute_result"
    }
   ],
   "source": [
    "nypd_df[\"ARREST_DATE\"]"
   ]
  },
  {
   "cell_type": "code",
   "execution_count": 46,
   "id": "c2d80b36",
   "metadata": {},
   "outputs": [
    {
     "ename": "SyntaxError",
     "evalue": "EOL while scanning string literal (2531695598.py, line 2)",
     "output_type": "error",
     "traceback": [
      "\u001b[0;36m  File \u001b[0;32m\"/var/folders/ty/91pvbp991kscxb696nhhm1nc0000gn/T/ipykernel_3320/2531695598.py\"\u001b[0;36m, line \u001b[0;32m2\u001b[0m\n\u001b[0;31m    \"loitering_charge\": nypd_df[\"PD_DESC\".str.contains(pat = 'LOITERING')\"]},\u001b[0m\n\u001b[0m                                                                             ^\u001b[0m\n\u001b[0;31mSyntaxError\u001b[0m\u001b[0;31m:\u001b[0m EOL while scanning string literal\n"
     ]
    }
   ],
   "source": [
    "loitering_date_df = pd.DataFrame({\"arrest_date\" : nypd_df[\"ARREST_DATE\"],\n",
    "                                 \"loitering_charge\": nypd_df[\"PD_DESC\".str.contains(pat = 'LOITERING')\"]},\n",
    "                    index = [0:5253368])"
   ]
  },
  {
   "cell_type": "code",
   "execution_count": null,
   "id": "60bf80a1",
   "metadata": {},
   "outputs": [],
   "source": []
  }
 ],
 "metadata": {
  "kernelspec": {
   "display_name": "Python 3 (ipykernel)",
   "language": "python",
   "name": "python3"
  },
  "language_info": {
   "codemirror_mode": {
    "name": "ipython",
    "version": 3
   },
   "file_extension": ".py",
   "mimetype": "text/x-python",
   "name": "python",
   "nbconvert_exporter": "python",
   "pygments_lexer": "ipython3",
   "version": "3.9.7"
  }
 },
 "nbformat": 4,
 "nbformat_minor": 5
}
