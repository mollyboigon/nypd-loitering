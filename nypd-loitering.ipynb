{
 "cells": [
  {
   "cell_type": "code",
   "execution_count": 1,
   "id": "74a07ee0",
   "metadata": {},
   "outputs": [],
   "source": [
    "import pandas as pd"
   ]
  },
  {
   "cell_type": "code",
   "execution_count": 6,
   "id": "1b5eba0e",
   "metadata": {},
   "outputs": [],
   "source": [
    "nypd_df = pd.read_csv(\"data/NYPD_Arrests_Data__Historic_.csv\")"
   ]
  },
  {
   "cell_type": "code",
   "execution_count": 7,
   "id": "78933980",
   "metadata": {},
   "outputs": [
    {
     "name": "stdout",
     "output_type": "stream",
     "text": [
      "<class 'pandas.core.frame.DataFrame'>\n",
      "RangeIndex: 5153369 entries, 0 to 5153368\n",
      "Data columns (total 19 columns):\n",
      " #   Column             Dtype  \n",
      "---  ------             -----  \n",
      " 0   ARREST_KEY         int64  \n",
      " 1   ARREST_DATE        object \n",
      " 2   PD_CD              float64\n",
      " 3   PD_DESC            object \n",
      " 4   KY_CD              float64\n",
      " 5   OFNS_DESC          object \n",
      " 6   LAW_CODE           object \n",
      " 7   LAW_CAT_CD         object \n",
      " 8   ARREST_BORO        object \n",
      " 9   ARREST_PRECINCT    int64  \n",
      " 10  JURISDICTION_CODE  float64\n",
      " 11  AGE_GROUP          object \n",
      " 12  PERP_SEX           object \n",
      " 13  PERP_RACE          object \n",
      " 14  X_COORD_CD         float64\n",
      " 15  Y_COORD_CD         float64\n",
      " 16  Latitude           float64\n",
      " 17  Longitude          float64\n",
      " 18  Lon_Lat            object \n",
      "dtypes: float64(7), int64(2), object(10)\n",
      "memory usage: 747.0+ MB\n"
     ]
    }
   ],
   "source": [
    "nypd_df.info()"
   ]
  },
  {
   "cell_type": "code",
   "execution_count": 23,
   "id": "c6b27c7d",
   "metadata": {},
   "outputs": [],
   "source": [
    "desc_df = nypd_df[\"PD_DESC\"]"
   ]
  },
  {
   "cell_type": "code",
   "execution_count": 28,
   "id": "1001c9ee",
   "metadata": {},
   "outputs": [
    {
     "ename": "SyntaxError",
     "evalue": "invalid syntax (1337006699.py, line 1)",
     "output_type": "error",
     "traceback": [
      "\u001b[0;36m  File \u001b[0;32m\"/var/folders/ty/91pvbp991kscxb696nhhm1nc0000gn/T/ipykernel_3320/1337006699.py\"\u001b[0;36m, line \u001b[0;32m1\u001b[0m\n\u001b[0;31m    print(desc_df[descending = true])\u001b[0m\n\u001b[0m                             ^\u001b[0m\n\u001b[0;31mSyntaxError\u001b[0m\u001b[0;31m:\u001b[0m invalid syntax\n"
     ]
    }
   ],
   "source": []
  },
  {
   "cell_type": "code",
   "execution_count": null,
   "id": "7095d75b",
   "metadata": {},
   "outputs": [],
   "source": []
  }
 ],
 "metadata": {
  "kernelspec": {
   "display_name": "Python 3 (ipykernel)",
   "language": "python",
   "name": "python3"
  },
  "language_info": {
   "codemirror_mode": {
    "name": "ipython",
    "version": 3
   },
   "file_extension": ".py",
   "mimetype": "text/x-python",
   "name": "python",
   "nbconvert_exporter": "python",
   "pygments_lexer": "ipython3",
   "version": "3.9.7"
  }
 },
 "nbformat": 4,
 "nbformat_minor": 5
}
